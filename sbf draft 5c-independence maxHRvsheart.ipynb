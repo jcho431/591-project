{
 "cells": [
  {
   "cell_type": "code",
   "execution_count": 89,
   "id": "5aeb1678",
   "metadata": {
    "kernel": "SoS"
   },
   "outputs": [
    {
     "name": "stderr",
     "output_type": "stream",
     "text": [
      "script_7004952693401711008:13: SettingWithCopyWarning: \n",
      "A value is trying to be set on a copy of a slice from a DataFrame\n",
      "\n",
      "See the caveats in the documentation: https://pandas.pydata.org/pandas-docs/stable/user_guide/indexing.html#returning-a-view-versus-a-copy\n",
      "script_7004952693401711008:24: SettingWithCopyWarning: \n",
      "A value is trying to be set on a copy of a slice from a DataFrame\n",
      "\n",
      "See the caveats in the documentation: https://pandas.pydata.org/pandas-docs/stable/user_guide/indexing.html#returning-a-view-versus-a-copy\n",
      "script_7004952693401711008:15: SettingWithCopyWarning: \n",
      "A value is trying to be set on a copy of a slice from a DataFrame\n",
      "\n",
      "See the caveats in the documentation: https://pandas.pydata.org/pandas-docs/stable/user_guide/indexing.html#returning-a-view-versus-a-copy\n",
      "script_7004952693401711008:20: SettingWithCopyWarning: \n",
      "A value is trying to be set on a copy of a slice from a DataFrame\n",
      "\n",
      "See the caveats in the documentation: https://pandas.pydata.org/pandas-docs/stable/user_guide/indexing.html#returning-a-view-versus-a-copy\n",
      "script_7004952693401711008:18: SettingWithCopyWarning: \n",
      "A value is trying to be set on a copy of a slice from a DataFrame\n",
      "\n",
      "See the caveats in the documentation: https://pandas.pydata.org/pandas-docs/stable/user_guide/indexing.html#returning-a-view-versus-a-copy\n"
     ]
    },
    {
     "name": "stdout",
     "output_type": "stream",
     "text": [
      "[[1, 2]]\n",
      "n = 917\n"
     ]
    }
   ],
   "source": [
    "import numpy as np\n",
    "import pandas as pd\n",
    "import itertools\n",
    "from numba import jit, prange\n",
    "import json\n",
    "\n",
    "dfa = pd.read_csv(r'heart2.csv')\n",
    "dfa[\"Sex2\"] = np.nan\n",
    "dfa[\"ChestPainType2\"] = np.nan\n",
    "\n",
    "for i in range(dfa.shape[0]):\n",
    "    if dfa[\"Sex\"][i] == \"M\":\n",
    "        dfa[\"Sex2\"][i] = 0\n",
    "    else:\n",
    "        dfa[\"Sex2\"][i] = 1\n",
    "\n",
    "    if dfa[\"ChestPainType\"][i] == \"ASY\":\n",
    "        dfa[\"ChestPainType2\"][i] = 0\n",
    "    elif dfa[\"ChestPainType\"][i] == \"NAP\":\n",
    "        dfa[\"ChestPainType2\"][i] = 1\n",
    "    elif dfa[\"ChestPainType\"][i] == \"NAP\":\n",
    "        dfa[\"ChestPainType2\"][i] = 2\n",
    "    else:\n",
    "        dfa[\"ChestPainType2\"][i] = 3\n",
    "\n",
    "# dfa = dfa[['Age', 'RestingBP', 'MaxHR', 'HeartDisease']].copy()\n",
    "\n",
    "# df = dfa[dfa['RestingBP'] > 0].copy()\n",
    "dfb = dfa[dfa['RestingBP'] > 0].copy()\n",
    "df = dfb[['MaxHR', 'HeartDisease']].copy()\n",
    "\n",
    "catvalues = [3, 2]\n",
    "\n",
    "# G1 = [[i+1 for i in range(df.shape[1])]]\n",
    "G1 = [[1],[2]]\n",
    "E = [[i,j] for i in range(1, df.shape[1]) for j in range(i+1, df.shape[1]+1)]\n",
    "\n",
    "print(E)\n",
    "\n",
    "# Creating design matrix A and converting contingency table u into vector of counts\n",
    "\n",
    "df2 = df.copy()\n",
    "n = df.shape[0]\n",
    "\n",
    "print(\"n =\", n)\n",
    "\n",
    "for i in range(len(list(df.columns))):\n",
    "    dfmin = df[list(df.columns)[i]].min()\n",
    "    dfmax = df[list(df.columns)[i]].max()\n",
    "    dfrange = (dfmax - dfmin)/catvalues[i]\n",
    "#     if catvalues[i] > 2:\n",
    "#         for j in range(n):\n",
    "#             jval = df[list(df.columns)[i]][j]\n",
    "# #             cond = [dfmin + k*dfrange <= jval < dfmin + (k+1)*dfrange if dfmin <= k <= (catvalues[k]-2) else dfmin + k*dfrange <= jval <= dfmin + (k+1)*dfrange for k in range(catvalues[i])]\n",
    "#             cond = [dfmin + k*dfrange <= jval < dfmin + (k+1)*dfrange if k <= catvalues[i]-2 else dfmin + k*dfrange <= jval <= dfmin + (k+1)*dfrange for k in range(catvalues[i])]\n",
    "#             df2[list(df.columns)[i]][j] = cond.index(True)\n",
    "            \n",
    "    for j in df.index.values.tolist():\n",
    "        jval = df[list(df.columns)[i]][j]\n",
    "#             cond = [dfmin + k*dfrange <= jval < dfmin + (k+1)*dfrange if dfmin <= k <= (catvalues[k]-2) else dfmin + k*dfrange <= jval <= dfmin + (k+1)*dfrange for k in range(catvalues[i])]\n",
    "        cond = [dfmin + k*dfrange <= jval < dfmin + (k+1)*dfrange if k <= catvalues[i]-2 else dfmin + k*dfrange <= jval <= dfmin + (k+1)*dfrange for k in range(catvalues[i])]\n",
    "        df2[list(df.columns)[i]][j] = cond.index(True)\n",
    "            \n",
    "            \n",
    "#     else:\n",
    "#         for j in range(size):\n",
    "#             jval = df[list(df.columns)[i]][j]\n",
    "#             cond = [dfmin + i*dfrange <= jval < dfmin + (i+1)*dfrange if dfmin <= i <= (catvalues[i]-2) else dfmin + i*dfrange <= jval <= dfmin + (i+1)*dfrange for i in range(catvalues[i])]\n",
    "#             df2[list(df.columns)[i]][j] = cond.index(True)\n",
    "\n",
    "# a,b,c = 0,0,1\n",
    "idx = pd.IndexSlice\n",
    "\n",
    "def func(lst):\n",
    "#     dictvalues = {\"Pregnancies\": 3, \"Glucose\": 3, \"BloodPressure\": 3, \"SkinThickness\": 3, \"Insulin\": 3, \"BMI\": 3, \"DiabetesPedigreeFunction\":3, \"Age\":3, \"Outcome\": 2}\n",
    "#     orderdict = {\"Pregnancies\": 1, \"Glucose\": 2, \"BloodPressure\": 3, \"SkinThickness\":4, \"Insulin\":5, \"BMI\": 6, \"DiabetesPedigreeFunction\": 7, \"Age\":  8, \"Outcome\": 9}\n",
    "#     order2dict = {1: \"Pregnancies\", 2: \"Glucose\", 3: \"BloodPressure\", 4: \"SkinThickness\", 5: \"Insulin\", 6: \"BMI\", 7: \"DiabetesPedigreeFunction\", 8: \"Age\", 9: \"Outcome\"}\n",
    "\n",
    "    dictvalues = dict([(df.columns[i], catvalues[i]) for i in range(len(df.columns))])\n",
    "    orderdict = dict([(df.columns[i], i+1) for i in range(len(df.columns))])\n",
    "    order2dict = dict([(i+1, df.columns[i]) for i in range(len(df.columns))])\n",
    "    \n",
    "    unio = list(set().union(*lst))\n",
    "    unio2 = sorted(unio)\n",
    "    mydict = dict(zip(unio2, list(range(len(unio2)))))\n",
    "\n",
    "    templ = np.zeros(len(unio))\n",
    "    lst2 = [list(range(1, dictvalues[order2dict[i]]+1)) for i in unio2]\n",
    "    lst3 = list(itertools.product(*lst2))\n",
    "    templ = np.zeros(len(lst3))\n",
    "    emptylist = []\n",
    "\n",
    "    # Creating the design matrix\n",
    "    for l in lst:\n",
    "        for j in list(itertools.product(*[list(range(1, dictvalues[order2dict[i]]+1)) for i in sorted(l)])):\n",
    "            for k in range(len(lst3)):\n",
    "                if list(j) == [lst3[k][m] for m in [mydict[n] for n in sorted(l)]]: \n",
    "                    templ[k] = 1\n",
    "\n",
    "            emptylist.append(templ)\n",
    "            templ = np.zeros(len(lst3))\n",
    "    \n",
    "    ltest0 = [i for i in unio2]\n",
    "    ltest = [df2[j] for j in [order2dict[i] for i in unio2]]\n",
    "    data_crosstab = pd.crosstab(ltest[:-1], ltest[-1], margins = False, dropna = False) # set margins = True to see margins\n",
    "\n",
    "    return np.array(emptylist), data_crosstab\n",
    "\n"
   ]
  },
  {
   "cell_type": "code",
   "execution_count": 90,
   "id": "596b06f3",
   "metadata": {
    "kernel": "SoS"
   },
   "outputs": [
    {
     "name": "stdout",
     "output_type": "stream",
     "text": [
      "     MaxHR  HeartDisease\n",
      "0      172             0\n",
      "1      156             1\n",
      "2       98             0\n",
      "3      108             1\n",
      "4      122             0\n",
      "..     ...           ...\n",
      "913    132             1\n",
      "914    141             1\n",
      "915    115             1\n",
      "916    174             1\n",
      "917    173             0\n",
      "\n",
      "[917 rows x 2 columns]\n",
      "[[1], [2]]\n"
     ]
    }
   ],
   "source": [
    "print(df)\n",
    "print(G1)"
   ]
  },
  {
   "cell_type": "code",
   "execution_count": 91,
   "id": "2d140d38",
   "metadata": {
    "kernel": "SoS"
   },
   "outputs": [
    {
     "name": "stdout",
     "output_type": "stream",
     "text": [
      "[[1. 1. 0. 0. 0. 0.]\n",
      " [0. 0. 1. 1. 0. 0.]\n",
      " [0. 0. 0. 0. 1. 1.]\n",
      " [1. 0. 1. 0. 1. 0.]\n",
      " [0. 1. 0. 1. 0. 1.]]\n",
      "HeartDisease    0    1\n",
      "MaxHR                 \n",
      "0              21   91\n",
      "1             214  347\n",
      "2             175   69\n"
     ]
    }
   ],
   "source": [
    "matrixA, utemp = func(lst = G1)\n",
    "\n",
    "print(matrixA)\n",
    "print(utemp)\n",
    "\n",
    "matrixA1 = [\"{\" + str(list(x))[1:-1] + \"}\" for x in matrixA]\n",
    "matrixA2 = \"{\" + str(matrixA1)[1:-1] + \"}\"\n",
    "matrixA3 = \"{\" + str(matrixA)[1:-1] + \"}\"\n",
    "\n",
    "tempstr = \"matrix {\"\n",
    "for i in range(len(matrixA)-1):\n",
    "    tempstr = tempstr + \"{\" + str(list(matrixA[i]))[1:-1] + \"}\" + \", \"\n",
    "    \n",
    "tempstr = tempstr + \"{\" + str(list(matrixA[len(matrixA)-1]))[1:-1] + \"}}\"\n",
    "\n",
    "with open(\"/Users/jc/readme2\", 'w') as f2:\n",
    "    f2.write(tempstr)\n",
    "    \n",
    "f2.close()\n"
   ]
  },
  {
   "cell_type": "code",
   "execution_count": 92,
   "id": "c850f0f6",
   "metadata": {
    "kernel": "SoS"
   },
   "outputs": [
    {
     "name": "stdout",
     "output_type": "stream",
     "text": [
      "rankModel = 4\n"
     ]
    }
   ],
   "source": [
    "# Calculating rank of design matrix A\n",
    "\n",
    "rankModel = np.linalg.matrix_rank(matrixA, tol=None, hermitian=False)\n",
    "# rankModel = np.linalg.matrix_rank(testA1, tol=None, hermitian=False)\n",
    "print(\"rankModel =\", rankModel)\n",
    "\n"
   ]
  },
  {
   "cell_type": "code",
   "execution_count": 93,
   "id": "d6509248",
   "metadata": {
    "kernel": "SoS"
   },
   "outputs": [],
   "source": [
    "f3 = open(\"/Users/jc/readme2\", \"r\")\n",
    "# print(f3.read())"
   ]
  },
  {
   "cell_type": "code",
   "execution_count": 94,
   "id": "6df21a01",
   "metadata": {
    "kernel": "M2"
   },
   "outputs": [
    {
     "name": "stdout",
     "output_type": "stream",
     "text": [
      "--initialization text already in file: ~/.profile-Macaulay2\n",
      "--initialization text already in file: ~/.login-Macaulay2\n",
      "--initialization text already in file, no changes needed: /Users/jc/.bash_profile\n",
      "--initialization text already in file, no changes needed: /Users/jc/.zprofile\n",
      "--initialization text already in file, no changes needed: /Users/jc/.login\n",
      "--initialization text already in file: ~/.emacs-Macaulay2\n",
      "--initialization text already in file, no changes needed: /Users/jc/.emacs\n",
      "\n",
      "\n",
      "| 0 0  1  -1 -1 1 |\n",
      "| 1 -1 -1 1  0  0 |\n",
      "| 1 -1 0  0  -1 1 |\n",
      "\n"
     ]
    }
   ],
   "source": [
    "setup();\n",
    "restart;\n",
    "loadPackage \"FourTiTwo\"\n",
    "A = value get \"/Users/jc/readme2\"\n",
    "markovBasis = toricMarkov A\n",
    "print(markovBasis)\n",
    "\"readme5\" << toString markovBasis << close\n",
    "copyFile(\"readme5\", \"/Users/jc/readme5\")"
   ]
  },
  {
   "cell_type": "code",
   "execution_count": 95,
   "id": "69d78e76",
   "metadata": {
    "kernel": "SoS"
   },
   "outputs": [],
   "source": [
    "pythonf = open(\"/Users/jc/readme5\", \"r\")\n",
    "x = pythonf.read()\n",
    "\n",
    "# print(G1)\n",
    "\n",
    "# print(markovBasis)\n",
    "# restart;\n",
    "# print(A)\n",
    "# // \"readme5\" << toString markovBasis << close"
   ]
  },
  {
   "cell_type": "code",
   "execution_count": 96,
   "id": "6872abc8",
   "metadata": {
    "kernel": "SoS"
   },
   "outputs": [
    {
     "name": "stdout",
     "output_type": "stream",
     "text": [
      "[[0, 0, 1, -1, -1, 1], [1, -1, -1, 1, 0, 0], [1, -1, 0, 0, -1, 1]]\n",
      "B = [[ 0  0  1 -1 -1  1]\n",
      " [ 1 -1 -1  1  0  0]\n",
      " [ 1 -1  0  0 -1  1]]\n"
     ]
    }
   ],
   "source": [
    "if G1 != [[i+1 for i in range(df.shape[1])]]:\n",
    "    new_string = x[7:].replace(\"{\", \"[\" )\n",
    "    new_string2 = new_string.replace(\"}\", \"]\" )\n",
    "\n",
    "    y = json.loads(new_string2)\n",
    "\n",
    "    print(y)\n",
    "    # print(type(y))\n",
    "\n",
    "    B = np.array(y)\n",
    "    print(\"B =\", B)\n",
    "    # print(B.shape)\n",
    "else:\n",
    "    B = []\n",
    "    \n",
    "# print(B)"
   ]
  },
  {
   "cell_type": "code",
   "execution_count": 97,
   "id": "4182f9b9",
   "metadata": {
    "kernel": "SoS"
   },
   "outputs": [
    {
     "name": "stdout",
     "output_type": "stream",
     "text": [
      "A = [[1. 1. 0. 0. 0. 0.]\n",
      " [0. 0. 1. 1. 0. 0.]\n",
      " [0. 0. 0. 0. 1. 1.]\n",
      " [1. 0. 1. 0. 1. 0.]\n",
      " [0. 1. 0. 1. 0. 1.]]\n",
      "u = [ 21  91 214 347 175  69]\n",
      "917\n"
     ]
    }
   ],
   "source": [
    "A,u = func(lst = G1)\n",
    "u = u.to_numpy()\n",
    "u = u.tolist()\n",
    "u = np.array([item for items in u for item in items])\n",
    "\n",
    "# u = u*20 + 1\n",
    "\n",
    "A1 = A.flatten()\n",
    "\n",
    "print(\"A =\", A)\n",
    "print(\"u =\", u)\n",
    "# print(\"u1 =\", u1)\n",
    "\n",
    "print(np.sum(u))"
   ]
  },
  {
   "cell_type": "code",
   "execution_count": 98,
   "id": "642fb7db",
   "metadata": {
    "kernel": "SoS"
   },
   "outputs": [
    {
     "name": "stdout",
     "output_type": "stream",
     "text": [
      "chip = 112.32654194093057\n",
      "mleG = [ 50.07639845  61.92372896 250.82871755 310.17105864 109.0949299\n",
      " 134.90516649]\n",
      "pval = 0.065\n"
     ]
    }
   ],
   "source": [
    "# RestingBP vs HeartDisease\n",
    "\n",
    "A,u = func(lst = G1)\n",
    "u = u.to_numpy()\n",
    "u = u.tolist()\n",
    "u = np.array([item for items in u for item in items])\n",
    "\n",
    "Btemp = B\n",
    "B = np.concatenate((Btemp,-Btemp))\n",
    "\n",
    "# @jit(nopython=True, parallel=True, fastmath=True)\n",
    "def calcs(numsamples, A, u, B):\n",
    "    avert = np.array([A[:,i] for i in range(A.shape[1])])\n",
    "    a = np.zeros(numsamples)\n",
    "    a3 = np.zeros(numsamples)\n",
    "    for i7 in prange(numsamples):\n",
    "        a[i7] = np.random.rand()\n",
    "        a3[i7] = np.random.rand()\n",
    "\n",
    "    randlist1 = a.copy()\n",
    "    randlist2 = a3.copy()\n",
    "    chilist = np.zeros(numsamples)\n",
    "    \n",
    "    p1 = np.sum(u)*np.ones(u.shape[0])/u.shape[0]  \n",
    "    \n",
    "    tol1 = 0.001\n",
    "    adot = np.zeros(A.shape[0])\n",
    "    pcalc = np.zeros(A.shape[0])\n",
    "    p1tempcalc = np.zeros(A.shape[0])\n",
    "    ptempcalc = np.zeros(A.shape[0])\n",
    "\n",
    "    \n",
    "    adot1 = np.dot(A,u)\n",
    "\n",
    "    for t in range(200):\n",
    "        if np.sum(np.absolute(np.dot(A,p1) - adot1)) <= tol1:\n",
    "            break\n",
    "        else:\n",
    "            p1temp = p1.copy()\n",
    "            p1 = np.array([p1temp[j] * (np.prod(np.power(adot1, avert[j])) / np.prod(np.power(np.dot(A,p1temp), avert[j])))**0.5 for j in range(u.shape[0])])    \n",
    "    \n",
    "    chip = np.sum(np.array([((u[a1] - p1[a1])**2)/p1[a1] for a1 in range(u.shape[0])]))\n",
    "    print(\"chip =\", chip)\n",
    "    \n",
    "    if G1 != [[i+1 for i in range(df.shape[1])]]:\n",
    "        v = u\n",
    "        for m in range(numsamples):\n",
    "            w = B[int(len(B) * np.random.rand())]\n",
    "            w1 = w.copy()\n",
    "\n",
    "            tempmin = v[0] + w1[0]\n",
    "            for j3 in prange(w1.shape[0]):\n",
    "                if v[j3] + w1[j3] <= tempmin:\n",
    "                    tempmin = v[j3] + w1[j3]\n",
    "\n",
    "            if tempmin < 0:\n",
    "                break\n",
    "            else:       \n",
    "                qprod = np.array([v[i] / (v[i] + w1[i]) if v[i] != v[i] + w1[i] and v[i] != 0 and (v[i] + w1[i]) != 0 else 1 for i in range(len(v))])\n",
    "\n",
    "                q = np.prod(qprod)\n",
    "\n",
    "\n",
    "                if q >= 1:\n",
    "                    v = v + w1\n",
    "                elif randlist2[m] <= q:\n",
    "                    v = v + w1\n",
    "\n",
    "            p = np.sum(u)*np.ones(u.shape[0])/u.shape[0]\n",
    "            tol1 = 0.01\n",
    "            adot = np.dot(A,v)\n",
    "\n",
    "            for t2 in range(100):\n",
    "                if np.sum(np.absolute(np.dot(A,p) - adot)) <= tol1:\n",
    "                    break\n",
    "                else:\n",
    "                    ptemp = p.copy()\n",
    "                    p = np.array([ptemp[j9] * (np.prod(np.power(adot, avert[j9])) / np.prod(np.power(np.dot(A,ptemp), avert[j9])))**0.5 for j9 in range(u.shape[0])])\n",
    "\n",
    "            chitemp = np.array([((v[b1] - p[b1])**2)/p[b1] for b1 in range(u.shape[0])])\n",
    "            if np.sum(chitemp) >= chip:\n",
    "                chilist[m] = 1\n",
    "    \n",
    "    \n",
    "        return np.sum(chilist)/numsamples, p1\n",
    "    \n",
    "    else:\n",
    "        return 1, p1\n",
    "    \n",
    "pval, mleG = calcs(10000, A, np.array(u), B)\n",
    "\n",
    "print(\"mleG =\", mleG)\n",
    "print(\"pval =\", pval)\n",
    "\n"
   ]
  },
  {
   "cell_type": "code",
   "execution_count": 99,
   "id": "eba29a9f",
   "metadata": {
    "kernel": "SoS"
   },
   "outputs": [
    {
     "data": {
      "text/plain": [
       "112.32654194093057"
      ]
     },
     "execution_count": 99,
     "metadata": {},
     "output_type": "execute_result"
    }
   ],
   "source": [
    "np.sum([((u[i] - mleG[i])**2) / mleG[i] for i in range(len(u))])"
   ]
  },
  {
   "cell_type": "code",
   "execution_count": null,
   "id": "e69b7388",
   "metadata": {
    "kernel": "SoS"
   },
   "outputs": [],
   "source": []
  }
 ],
 "metadata": {
  "kernelspec": {
   "display_name": "SoS",
   "language": "sos",
   "name": "sos"
  },
  "language_info": {
   "codemirror_mode": "sos",
   "file_extension": ".sos",
   "mimetype": "text/x-sos",
   "name": "sos",
   "nbconvert_exporter": "sos_notebook.converter.SoS_Exporter",
   "pygments_lexer": "sos"
  },
  "sos": {
   "kernels": [
    [
     "M2",
     "m2",
     "text/x-macaulay2",
     "",
     ""
    ],
    [
     "SoS",
     "sos",
     "",
     "",
     "sos"
    ]
   ],
   "panel": {
    "displayed": true,
    "height": 0
   },
   "version": "0.24.2"
  }
 },
 "nbformat": 4,
 "nbformat_minor": 5
}
