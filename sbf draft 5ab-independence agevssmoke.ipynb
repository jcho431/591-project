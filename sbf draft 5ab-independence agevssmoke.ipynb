{
 "cells": [
  {
   "cell_type": "code",
   "execution_count": 30,
   "id": "60c4d58f",
   "metadata": {
    "kernel": "SoS"
   },
   "outputs": [
    {
     "name": "stdout",
     "output_type": "stream",
     "text": [
      "n = 5000\n"
     ]
    }
   ],
   "source": [
    "import numpy as np\n",
    "import pandas as pd\n",
    "import itertools\n",
    "from numba import jit, prange\n",
    "import json\n",
    "\n",
    "dfa = pd.read_csv(r'smoking_driking_dataset_Ver01.csv')\n",
    "dfa[\"sex2\"] = [0 if dfa[\"sex\"][i] == \"Male\" else 1 for i in range(dfa.shape[0])]\n",
    "dfa[\"drink2\"] = [0 if dfa[\"DRK_YN\"][i] == \"N\" else 1 for i in range(dfa.shape[0])]\n",
    "\n",
    "df = dfa[['age', 'drink2']][0:5000].copy()\n",
    "\n",
    "G1 = [[1],[2]]\n",
    "E = [[i,j] for i in range(1, df.shape[1]) for j in range(i+1, df.shape[1]+1)]\n",
    "    \n",
    "catvalues = [3, 2]\n",
    "df2 = df.copy()\n",
    "n = df.shape[0]\n",
    "\n",
    "print(\"n =\", n)\n",
    "\n",
    "for i in range(len(list(df.columns))):\n",
    "    dfmin = df[list(df.columns)[i]].min()\n",
    "    dfmax = df[list(df.columns)[i]].max()\n",
    "    dfrange = (dfmax - dfmin)/catvalues[i]\n",
    "            \n",
    "    for j in df.index.values.tolist():\n",
    "        jval = df[list(df.columns)[i]][j]\n",
    "#             cond = [dfmin + k*dfrange <= jval < dfmin + (k+1)*dfrange if dfmin <= k <= (catvalues[k]-2) else dfmin + k*dfrange <= jval <= dfmin + (k+1)*dfrange for k in range(catvalues[i])]\n",
    "        cond = [dfmin + k*dfrange <= jval < dfmin + (k+1)*dfrange if k <= catvalues[i]-2 else dfmin + k*dfrange <= jval <= dfmin + (k+1)*dfrange for k in range(catvalues[i])]\n",
    "        df2[list(df.columns)[i]][j] = cond.index(True)\n",
    "            \n",
    "def func(lst):\n",
    "    dictvalues = dict([(df.columns[i], catvalues[i]) for i in range(len(df.columns))])\n",
    "    orderdict = dict([(df.columns[i], i+1) for i in range(len(df.columns))])\n",
    "    order2dict = dict([(i+1, df.columns[i]) for i in range(len(df.columns))])\n",
    "    \n",
    "    unio = list(set().union(*lst))\n",
    "    unio2 = sorted(unio)\n",
    "    mydict = dict(zip(unio2, list(range(len(unio2)))))\n",
    "\n",
    "    templ = np.zeros(len(unio))\n",
    "    lst2 = [list(range(1, dictvalues[order2dict[i]]+1)) for i in unio2]\n",
    "    lst3 = list(itertools.product(*lst2))\n",
    "    templ = np.zeros(len(lst3))\n",
    "    emptylist = []\n",
    "\n",
    "    # Creating the design matrix\n",
    "    for l in lst:\n",
    "        for j in list(itertools.product(*[list(range(1, dictvalues[order2dict[i]]+1)) for i in sorted(l)])):\n",
    "            for k in range(len(lst3)):\n",
    "                if list(j) == [lst3[k][m] for m in [mydict[n] for n in sorted(l)]]: \n",
    "                    templ[k] = 1\n",
    "\n",
    "            emptylist.append(templ)\n",
    "            templ = np.zeros(len(lst3))\n",
    "    \n",
    "    ltest0 = [i for i in unio2]\n",
    "    ltest = [df2[j] for j in [order2dict[i] for i in unio2]]\n",
    "    data_crosstab = pd.crosstab(ltest[:-1], ltest[-1], margins = False, dropna = False) # set margins = True to see margins\n",
    "\n",
    "    return np.array(emptylist), data_crosstab\n",
    "\n"
   ]
  },
  {
   "cell_type": "code",
   "execution_count": 31,
   "id": "7a63c833",
   "metadata": {
    "kernel": "SoS"
   },
   "outputs": [
    {
     "name": "stdout",
     "output_type": "stream",
     "text": [
      "[[1. 1. 0. 0. 0. 0.]\n",
      " [0. 0. 1. 1. 0. 0.]\n",
      " [0. 0. 0. 0. 1. 1.]\n",
      " [1. 0. 1. 0. 1. 0.]\n",
      " [0. 1. 0. 1. 0. 1.]]\n",
      "drink2     0     1\n",
      "age               \n",
      "0        720  1196\n",
      "1       1226  1134\n",
      "2        534   190\n"
     ]
    }
   ],
   "source": [
    "matrixA, utemp = func(lst = G1)\n",
    "\n",
    "print(matrixA)\n",
    "print(utemp)\n",
    "\n",
    "matrixA1 = [\"{\" + str(list(x))[1:-1] + \"}\" for x in matrixA]\n",
    "matrixA2 = \"{\" + str(matrixA1)[1:-1] + \"}\"\n",
    "matrixA3 = \"{\" + str(matrixA)[1:-1] + \"}\"\n",
    "\n",
    "tempstr = \"matrix {\"\n",
    "for i in range(len(matrixA)-1):\n",
    "    tempstr = tempstr + \"{\" + str(list(matrixA[i]))[1:-1] + \"}\" + \", \"\n",
    "    \n",
    "tempstr = tempstr + \"{\" + str(list(matrixA[len(matrixA)-1]))[1:-1] + \"}}\"\n",
    "\n",
    "with open(\"/Users/jc/readme2age\", 'w') as f2:\n",
    "    f2.write(tempstr)\n",
    "    \n",
    "f2.close()"
   ]
  },
  {
   "cell_type": "code",
   "execution_count": 32,
   "id": "52312f79",
   "metadata": {
    "kernel": "SoS"
   },
   "outputs": [],
   "source": [
    "f3 = open(\"/Users/jc/readme2age\", \"r\")"
   ]
  },
  {
   "cell_type": "code",
   "execution_count": 33,
   "id": "affee1c8",
   "metadata": {
    "kernel": "M2"
   },
   "outputs": [
    {
     "name": "stdout",
     "output_type": "stream",
     "text": [
      "--initialization text already in file: ~/.profile-Macaulay2\n",
      "--initialization text already in file: ~/.login-Macaulay2\n",
      "--initialization text already in file, no changes needed: /Users/jc/.bash_profile\n",
      "--initialization text already in file, no changes needed: /Users/jc/.zprofile\n",
      "--initialization text already in file, no changes needed: /Users/jc/.login\n",
      "--initialization text already in file: ~/.emacs-Macaulay2\n",
      "--initialization text already in file, no changes needed: /Users/jc/.emacs\n",
      "\n",
      "\n",
      "| 0 0  1  -1 -1 1 |\n",
      "| 1 -1 -1 1  0  0 |\n",
      "| 1 -1 0  0  -1 1 |\n",
      "\n"
     ]
    }
   ],
   "source": [
    "setup();\n",
    "restart;\n",
    "loadPackage \"FourTiTwo\"\n",
    "A = value get \"/Users/jc/readme2age\"\n",
    "markovBasis = toricMarkov A\n",
    "print(markovBasis)\n",
    "\"readme5age\" << toString markovBasis << close\n",
    "copyFile(\"readme5age\", \"/Users/jc/readme5age\")"
   ]
  },
  {
   "cell_type": "code",
   "execution_count": 34,
   "id": "efb4b793",
   "metadata": {
    "kernel": "SoS"
   },
   "outputs": [],
   "source": [
    "pythonf = open(\"/Users/jc/readme5age\", \"r\")\n",
    "x = pythonf.read()"
   ]
  },
  {
   "cell_type": "code",
   "execution_count": 35,
   "id": "9d91eaf5",
   "metadata": {
    "kernel": "SoS"
   },
   "outputs": [
    {
     "name": "stdout",
     "output_type": "stream",
     "text": [
      "[[0, 0, 1, -1, -1, 1], [1, -1, -1, 1, 0, 0], [1, -1, 0, 0, -1, 1]]\n",
      "B = [[ 0  0  1 -1 -1  1]\n",
      " [ 1 -1 -1  1  0  0]\n",
      " [ 1 -1  0  0 -1  1]]\n"
     ]
    }
   ],
   "source": [
    "if G1 != [[i+1 for i in range(df.shape[1])]]:\n",
    "    new_string = x[7:].replace(\"{\", \"[\" )\n",
    "    new_string2 = new_string.replace(\"}\", \"]\" )\n",
    "\n",
    "    y = json.loads(new_string2)\n",
    "\n",
    "    print(y)\n",
    "    # print(type(y))\n",
    "\n",
    "    B = np.array(y)\n",
    "    print(\"B =\", B)\n",
    "    # print(B.shape)\n",
    "else:\n",
    "    B = []\n",
    "    \n",
    "# print(B)"
   ]
  },
  {
   "cell_type": "code",
   "execution_count": 36,
   "id": "8532a961",
   "metadata": {
    "kernel": "SoS"
   },
   "outputs": [
    {
     "name": "stdout",
     "output_type": "stream",
     "text": [
      "A = [[1. 1. 0. 0. 0. 0.]\n",
      " [0. 0. 1. 1. 0. 0.]\n",
      " [0. 0. 0. 0. 1. 1.]\n",
      " [1. 0. 1. 0. 1. 0.]\n",
      " [0. 1. 0. 1. 0. 1.]]\n",
      "u = [ 720 1196 1226 1134  534  190]\n",
      "5000\n"
     ]
    }
   ],
   "source": [
    "A,u = func(lst = G1)\n",
    "u = u.to_numpy()\n",
    "u = u.tolist()\n",
    "u = np.array([item for items in u for item in items])\n",
    "\n",
    "# u = u*20 + 1\n",
    "\n",
    "A1 = A.flatten()\n",
    "\n",
    "print(\"A =\", A)\n",
    "print(\"u =\", u)\n",
    "# print(\"u1 =\", u1)\n",
    "\n",
    "print(np.sum(u))"
   ]
  },
  {
   "cell_type": "code",
   "execution_count": 37,
   "id": "98e881ee",
   "metadata": {
    "kernel": "SoS"
   },
   "outputs": [
    {
     "name": "stdout",
     "output_type": "stream",
     "text": [
      "mleG = [ 950.33598437  965.66397676 1170.55986442 1189.43985316  359.10416074\n",
      "  364.89616055]\n",
      "pval = 0.266\n"
     ]
    }
   ],
   "source": [
    "# Age vs HeartDisease\n",
    "\n",
    "A,u = func(lst = G1)\n",
    "u = u.to_numpy()\n",
    "u = u.tolist()\n",
    "u = np.array([item for items in u for item in items])\n",
    "\n",
    "Btemp = B\n",
    "B = np.concatenate((Btemp,-Btemp))\n",
    "\n",
    "# @jit(nopython=True, parallel=True, fastmath=True)\n",
    "def calcs(numsamples, A, u, B):\n",
    "    avert = np.array([A[:,i] for i in range(A.shape[1])])\n",
    "    a = np.zeros(numsamples)\n",
    "    a3 = np.zeros(numsamples)\n",
    "    for i7 in prange(numsamples):\n",
    "        a[i7] = np.random.rand()\n",
    "        a3[i7] = np.random.rand()\n",
    "\n",
    "    randlist1 = a.copy()\n",
    "    randlist2 = a3.copy()\n",
    "    chilist = np.zeros(numsamples)\n",
    "    \n",
    "    p1 = np.sum(u)*np.ones(u.shape[0])/u.shape[0]  \n",
    "    \n",
    "    tol1 = 0.001\n",
    "    adot = np.zeros(A.shape[0])\n",
    "    pcalc = np.zeros(A.shape[0])\n",
    "    p1tempcalc = np.zeros(A.shape[0])\n",
    "    ptempcalc = np.zeros(A.shape[0])\n",
    "\n",
    "    \n",
    "    adot1 = np.dot(A,u)\n",
    "\n",
    "    while np.sum(np.absolute(np.dot(A,p1) - adot1)) > tol1:\n",
    "        p1temp = p1.copy()\n",
    "        p1 = np.array([p1temp[j] * (np.prod(np.power(adot1, avert[j])) / np.prod(np.power(np.dot(A,p1temp), avert[j])))**0.5 for j in range(u.shape[0])])    \n",
    "    \n",
    "    chip = np.sum(np.array([((u[a1] - p1[a1])**2)/p1[a1] for a1 in range(u.shape[0])]))\n",
    "    \n",
    "    if G1 != [[i+1 for i in range(df.shape[1])]]:\n",
    "        v = u\n",
    "        for m in range(numsamples):\n",
    "            w = B[int(len(B) * randlist1[m])]\n",
    "            w1 = w.copy()\n",
    "            \n",
    "            if np.min(v+w1) < 0:\n",
    "                v = v\n",
    "            else:       \n",
    "                qprod = np.array([v[i] / (v[i] + w1[i]) if v[i] != v[i] + w1[i] and v[i] != 0 and (v[i] + w1[i]) != 0 else 1 for i in range(len(v))])\n",
    "\n",
    "                q = np.prod(qprod)\n",
    "\n",
    "\n",
    "                if q >= 1:\n",
    "                    v = v + w1\n",
    "                elif randlist2[m] <= q:\n",
    "                    v = v + w1\n",
    "\n",
    "            p = np.sum(u)*np.ones(u.shape[0])/u.shape[0]\n",
    "            adot = np.dot(A,v)\n",
    "            \n",
    "            while np.sum(np.absolute(np.dot(A,p) - adot)) > tol1:\n",
    "                ptemp = p.copy()\n",
    "                p = np.array([ptemp[j9] * (np.prod(np.power(adot, avert[j9])) / np.prod(np.power(np.dot(A,ptemp), avert[j9])))**0.5 for j9 in range(u.shape[0])])\n",
    "\n",
    "            chitemp = np.array([((v[b1] - p[b1])**2)/p[b1] for b1 in range(u.shape[0])])\n",
    "            if np.sum(chitemp) >= chip:\n",
    "                chilist[m] = 1\n",
    "    \n",
    "    \n",
    "#         return np.sum(chilist)/numsamples, p1\n",
    "        return np.sum(chilist[::100])/len(chilist[::100]), p1\n",
    "    \n",
    "    else:\n",
    "        return 1, p1\n",
    "    \n",
    "pval, mleG = calcs(100000, A, np.array(u), B)\n",
    "\n",
    "print(\"mleG =\", mleG)\n",
    "print(\"pval =\", pval)\n",
    "\n"
   ]
  },
  {
   "cell_type": "code",
   "execution_count": 38,
   "id": "03d55a8f",
   "metadata": {
    "kernel": "SoS"
   },
   "outputs": [
    {
     "data": {
      "text/plain": [
       "284.9868187891361"
      ]
     },
     "execution_count": 38,
     "metadata": {},
     "output_type": "execute_result"
    }
   ],
   "source": [
    "np.sum([(u[i] - mleG[i])**2 / mleG[i] for i in range(len(u))])"
   ]
  },
  {
   "cell_type": "code",
   "execution_count": 39,
   "id": "896fa430",
   "metadata": {
    "kernel": "SoS"
   },
   "outputs": [
    {
     "name": "stdout",
     "output_type": "stream",
     "text": [
      "[1, 5, 9]\n"
     ]
    }
   ],
   "source": [
    "o = [1,2,3,4,5,6,7,8,9]\n",
    "print(o[::4])"
   ]
  },
  {
   "cell_type": "code",
   "execution_count": null,
   "id": "e1946b5a",
   "metadata": {
    "kernel": "SoS"
   },
   "outputs": [],
   "source": []
  }
 ],
 "metadata": {
  "kernelspec": {
   "display_name": "SoS",
   "language": "sos",
   "name": "sos"
  },
  "language_info": {
   "codemirror_mode": "sos",
   "file_extension": ".sos",
   "mimetype": "text/x-sos",
   "name": "sos",
   "nbconvert_exporter": "sos_notebook.converter.SoS_Exporter",
   "pygments_lexer": "sos"
  },
  "sos": {
   "kernels": [
    [
     "M2",
     "m2",
     "text/x-macaulay2",
     "",
     ""
    ],
    [
     "SoS",
     "sos",
     "",
     "",
     "sos"
    ]
   ],
   "panel": {
    "displayed": true,
    "height": 0
   },
   "version": "0.24.2"
  }
 },
 "nbformat": 4,
 "nbformat_minor": 5
}
